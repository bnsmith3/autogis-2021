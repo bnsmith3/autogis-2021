{
 "cells": [
  {
   "cell_type": "markdown",
   "metadata": {},
   "source": [
    "## Problem 3: How many people live in the dominance area of each shopping center? \n",
    "\n",
    "Find out how many people live under the dominance area of each shopping center. You should be able to do this based on the output from problem 2, lesson materials from weeks 2, 3 and 4 and these additional hints:\n",
    "\n",
    "- You can read in the population data from the HSY WFS service: https://kartta.hsy.fi/geoserver/wfs (check more hints from the lesson materials)\n",
    "- Aggregate your dominance areas from problem 2 into a unified geometries using [`dissolve()`](http://geopandas.org/aggregation_with_dissolve.html#dissolve-example) -function in geopandas before joining with the population data.\n",
    "- Remember to check the crs of the input data.\n",
    "- Join information between the population grid and the dominance areas -layer using `intersect` as the condition in the spatial join.\n",
    "\n",
    "You can freely organize your code into the code cells below.\n",
    "\n"
   ]
  },
  {
   "cell_type": "code",
   "execution_count": 2,
   "metadata": {
    "deletable": false,
    "nbgrader": {
     "cell_type": "code",
     "checksum": "236c7837ce483f83f8e47c925a248adb",
     "grade": false,
     "grade_id": "pop_data",
     "locked": false,
     "schema_version": 3,
     "solution": true,
     "task": false
    }
   },
   "outputs": [
    {
     "data": {
      "text/html": [
       "<div>\n",
       "<style scoped>\n",
       "    .dataframe tbody tr th:only-of-type {\n",
       "        vertical-align: middle;\n",
       "    }\n",
       "\n",
       "    .dataframe tbody tr th {\n",
       "        vertical-align: top;\n",
       "    }\n",
       "\n",
       "    .dataframe thead th {\n",
       "        text-align: right;\n",
       "    }\n",
       "</style>\n",
       "<table border=\"1\" class=\"dataframe\">\n",
       "  <thead>\n",
       "    <tr style=\"text-align: right;\">\n",
       "      <th></th>\n",
       "      <th>asukkaita</th>\n",
       "      <th>geometry</th>\n",
       "    </tr>\n",
       "  </thead>\n",
       "  <tbody>\n",
       "    <tr>\n",
       "      <th>0</th>\n",
       "      <td>9</td>\n",
       "      <td>POLYGON ((25472499.995 6689749.005, 25472499.9...</td>\n",
       "    </tr>\n",
       "    <tr>\n",
       "      <th>1</th>\n",
       "      <td>5</td>\n",
       "      <td>POLYGON ((25472499.995 6685998.998, 25472499.9...</td>\n",
       "    </tr>\n",
       "    <tr>\n",
       "      <th>2</th>\n",
       "      <td>8</td>\n",
       "      <td>POLYGON ((25472499.995 6684249.004, 25472499.9...</td>\n",
       "    </tr>\n",
       "    <tr>\n",
       "      <th>3</th>\n",
       "      <td>5</td>\n",
       "      <td>POLYGON ((25472499.995 6683999.005, 25472499.9...</td>\n",
       "    </tr>\n",
       "    <tr>\n",
       "      <th>4</th>\n",
       "      <td>11</td>\n",
       "      <td>POLYGON ((25472499.995 6682998.998, 25472499.9...</td>\n",
       "    </tr>\n",
       "  </tbody>\n",
       "</table>\n",
       "</div>"
      ],
      "text/plain": [
       "   asukkaita                                           geometry\n",
       "0          9  POLYGON ((25472499.995 6689749.005, 25472499.9...\n",
       "1          5  POLYGON ((25472499.995 6685998.998, 25472499.9...\n",
       "2          8  POLYGON ((25472499.995 6684249.004, 25472499.9...\n",
       "3          5  POLYGON ((25472499.995 6683999.005, 25472499.9...\n",
       "4         11  POLYGON ((25472499.995 6682998.998, 25472499.9..."
      ]
     },
     "execution_count": 2,
     "metadata": {},
     "output_type": "execute_result"
    }
   ],
   "source": [
    "import geopandas as gpd\n",
    "import requests\n",
    "import json\n",
    "\n",
    "# Read in the population data from WFS using requests\n",
    "url = 'https://kartta.hsy.fi/geoserver/wfs'\n",
    "params = dict(service='WFS', \n",
    "              version='2.0.0', \n",
    "              request='GetFeature', \n",
    "              typeName='asuminen_ja_maankaytto:Vaestotietoruudukko_2018', \n",
    "              outputFormat='json')\n",
    "\n",
    "r = requests.get(url, params=params)\n",
    "\n",
    "# We only need the population count, i.e., asukkaita, and the geometry\n",
    "pop = gpd.GeoDataFrame.from_features(json.loads(r.content))[['asukkaita', 'geometry']]\n",
    "pop.head()"
   ]
  },
  {
   "cell_type": "code",
   "execution_count": 4,
   "metadata": {
    "deletable": false,
    "nbgrader": {
     "cell_type": "code",
     "checksum": "4a74ac5f00878316639ced6d4824e667",
     "grade": false,
     "grade_id": "dissolve",
     "locked": false,
     "schema_version": 3,
     "solution": true,
     "task": false
    }
   },
   "outputs": [
    {
     "data": {
      "text/html": [
       "<div>\n",
       "<style scoped>\n",
       "    .dataframe tbody tr th:only-of-type {\n",
       "        vertical-align: middle;\n",
       "    }\n",
       "\n",
       "    .dataframe tbody tr th {\n",
       "        vertical-align: top;\n",
       "    }\n",
       "\n",
       "    .dataframe thead th {\n",
       "        text-align: right;\n",
       "    }\n",
       "</style>\n",
       "<table border=\"1\" class=\"dataframe\">\n",
       "  <thead>\n",
       "    <tr style=\"text-align: right;\">\n",
       "      <th></th>\n",
       "      <th>dominant_service</th>\n",
       "      <th>geometry</th>\n",
       "    </tr>\n",
       "  </thead>\n",
       "  <tbody>\n",
       "    <tr>\n",
       "      <th>0</th>\n",
       "      <td>pt_r_t_Dixi</td>\n",
       "      <td>MULTIPOLYGON (((384500.000 6675750.000, 384250...</td>\n",
       "    </tr>\n",
       "    <tr>\n",
       "      <th>1</th>\n",
       "      <td>pt_r_t_Forum</td>\n",
       "      <td>MULTIPOLYGON (((377750.000 6676750.000, 378000...</td>\n",
       "    </tr>\n",
       "    <tr>\n",
       "      <th>2</th>\n",
       "      <td>pt_r_t_IsoOmena</td>\n",
       "      <td>MULTIPOLYGON (((363250.000 6676750.000, 363000...</td>\n",
       "    </tr>\n",
       "    <tr>\n",
       "      <th>3</th>\n",
       "      <td>pt_r_t_Itis</td>\n",
       "      <td>MULTIPOLYGON (((389750.000 6672500.000, 389750...</td>\n",
       "    </tr>\n",
       "    <tr>\n",
       "      <th>4</th>\n",
       "      <td>pt_r_t_Jumbo</td>\n",
       "      <td>MULTIPOLYGON (((375250.000 6684750.000, 375250...</td>\n",
       "    </tr>\n",
       "  </tbody>\n",
       "</table>\n",
       "</div>"
      ],
      "text/plain": [
       "  dominant_service                                           geometry\n",
       "0      pt_r_t_Dixi  MULTIPOLYGON (((384500.000 6675750.000, 384250...\n",
       "1     pt_r_t_Forum  MULTIPOLYGON (((377750.000 6676750.000, 378000...\n",
       "2  pt_r_t_IsoOmena  MULTIPOLYGON (((363250.000 6676750.000, 363000...\n",
       "3      pt_r_t_Itis  MULTIPOLYGON (((389750.000 6672500.000, 389750...\n",
       "4     pt_r_t_Jumbo  MULTIPOLYGON (((375250.000 6684750.000, 375250..."
      ]
     },
     "execution_count": 4,
     "metadata": {},
     "output_type": "execute_result"
    }
   ],
   "source": [
    "# Get our dominance area data and dissolve it into one shapely object per area\n",
    "# We only need to dominant_service and geometry columns\n",
    "grid = gpd.read_file('data/travel_time_grid.geojson', driver='GeoJSON')[['dominant_service', \\\n",
    "                                                                         'geometry']]\n",
    "grid = grid.dissolve(by='dominant_service').reset_index()\n",
    "grid.head()"
   ]
  },
  {
   "cell_type": "code",
   "execution_count": 5,
   "metadata": {},
   "outputs": [
    {
     "name": "stdout",
     "output_type": "stream",
     "text": [
      "pop crs: None\n",
      "grid crs: epsg:3067\n"
     ]
    }
   ],
   "source": [
    "# check the crs values\n",
    "print(f'pop crs: {pop.crs}')\n",
    "print(f'grid crs: {grid.crs}')"
   ]
  },
  {
   "cell_type": "code",
   "execution_count": 7,
   "metadata": {},
   "outputs": [
    {
     "name": "stdout",
     "output_type": "stream",
     "text": [
      "pop crs: epsg:3879\n",
      "grid crs: epsg:3879\n"
     ]
    }
   ],
   "source": [
    "# assign the population CRS\n",
    "from pyproj import CRS\n",
    "pop.crs = CRS.from_epsg(3879)\n",
    "print(f'pop crs: {pop.crs}')\n",
    "\n",
    "# reasign the grid to match the population crs\n",
    "grid.to_crs(epsg=3879, inplace=True)\n",
    "print(f'grid crs: {grid.crs}')"
   ]
  },
  {
   "cell_type": "code",
   "execution_count": 11,
   "metadata": {},
   "outputs": [],
   "source": [
    "# Join the data and sum the population in the dominant service areas\n",
    "joined_data = gpd.sjoin(grid, pop, how='left', predicate='intersects')\n",
    "joined_data_sums = joined_data[['dominant_service', 'asukkaita']].groupby('dominant_service').sum().reset_index()"
   ]
  },
  {
   "cell_type": "code",
   "execution_count": 14,
   "metadata": {
    "deletable": false,
    "nbgrader": {
     "cell_type": "code",
     "checksum": "fdfe29c8bca6773b464820839ec8f8dc",
     "grade": false,
     "grade_id": "final_result",
     "locked": false,
     "schema_version": 3,
     "solution": true,
     "task": false
    }
   },
   "outputs": [
    {
     "data": {
      "text/html": [
       "<div>\n",
       "<style scoped>\n",
       "    .dataframe tbody tr th:only-of-type {\n",
       "        vertical-align: middle;\n",
       "    }\n",
       "\n",
       "    .dataframe tbody tr th {\n",
       "        vertical-align: top;\n",
       "    }\n",
       "\n",
       "    .dataframe thead th {\n",
       "        text-align: right;\n",
       "    }\n",
       "</style>\n",
       "<table border=\"1\" class=\"dataframe\">\n",
       "  <thead>\n",
       "    <tr style=\"text-align: right;\">\n",
       "      <th></th>\n",
       "      <th>dominant_service</th>\n",
       "      <th>geometry</th>\n",
       "      <th>index_right</th>\n",
       "      <th>asukkaita</th>\n",
       "    </tr>\n",
       "  </thead>\n",
       "  <tbody>\n",
       "    <tr>\n",
       "      <th>0</th>\n",
       "      <td>pt_r_t_Dixi</td>\n",
       "      <td>MULTIPOLYGON (((25495359.278 6676600.761, 2549...</td>\n",
       "      <td>3753</td>\n",
       "      <td>1304</td>\n",
       "    </tr>\n",
       "    <tr>\n",
       "      <th>0</th>\n",
       "      <td>pt_r_t_Dixi</td>\n",
       "      <td>MULTIPOLYGON (((25495359.278 6676600.761, 2549...</td>\n",
       "      <td>3855</td>\n",
       "      <td>108</td>\n",
       "    </tr>\n",
       "    <tr>\n",
       "      <th>0</th>\n",
       "      <td>pt_r_t_Dixi</td>\n",
       "      <td>MULTIPOLYGON (((25495359.278 6676600.761, 2549...</td>\n",
       "      <td>3752</td>\n",
       "      <td>10</td>\n",
       "    </tr>\n",
       "    <tr>\n",
       "      <th>0</th>\n",
       "      <td>pt_r_t_Dixi</td>\n",
       "      <td>MULTIPOLYGON (((25495359.278 6676600.761, 2549...</td>\n",
       "      <td>3854</td>\n",
       "      <td>267</td>\n",
       "    </tr>\n",
       "    <tr>\n",
       "      <th>0</th>\n",
       "      <td>pt_r_t_Dixi</td>\n",
       "      <td>MULTIPOLYGON (((25495359.278 6676600.761, 2549...</td>\n",
       "      <td>3751</td>\n",
       "      <td>103</td>\n",
       "    </tr>\n",
       "    <tr>\n",
       "      <th>...</th>\n",
       "      <td>...</td>\n",
       "      <td>...</td>\n",
       "      <td>...</td>\n",
       "      <td>...</td>\n",
       "    </tr>\n",
       "    <tr>\n",
       "      <th>6</th>\n",
       "      <td>pt_r_t_Ruoholahti</td>\n",
       "      <td>MULTIPOLYGON (((25487474.735 6672609.299, 2548...</td>\n",
       "      <td>2459</td>\n",
       "      <td>772</td>\n",
       "    </tr>\n",
       "    <tr>\n",
       "      <th>6</th>\n",
       "      <td>pt_r_t_Ruoholahti</td>\n",
       "      <td>MULTIPOLYGON (((25487474.735 6672609.299, 2548...</td>\n",
       "      <td>2411</td>\n",
       "      <td>491</td>\n",
       "    </tr>\n",
       "    <tr>\n",
       "      <th>6</th>\n",
       "      <td>pt_r_t_Ruoholahti</td>\n",
       "      <td>MULTIPOLYGON (((25487474.735 6672609.299, 2548...</td>\n",
       "      <td>2410</td>\n",
       "      <td>1028</td>\n",
       "    </tr>\n",
       "    <tr>\n",
       "      <th>6</th>\n",
       "      <td>pt_r_t_Ruoholahti</td>\n",
       "      <td>MULTIPOLYGON (((25487474.735 6672609.299, 2548...</td>\n",
       "      <td>2458</td>\n",
       "      <td>310</td>\n",
       "    </tr>\n",
       "    <tr>\n",
       "      <th>6</th>\n",
       "      <td>pt_r_t_Ruoholahti</td>\n",
       "      <td>MULTIPOLYGON (((25487474.735 6672609.299, 2548...</td>\n",
       "      <td>2367</td>\n",
       "      <td>55</td>\n",
       "    </tr>\n",
       "  </tbody>\n",
       "</table>\n",
       "<p>6594 rows × 4 columns</p>\n",
       "</div>"
      ],
      "text/plain": [
       "     dominant_service                                           geometry  \\\n",
       "0         pt_r_t_Dixi  MULTIPOLYGON (((25495359.278 6676600.761, 2549...   \n",
       "0         pt_r_t_Dixi  MULTIPOLYGON (((25495359.278 6676600.761, 2549...   \n",
       "0         pt_r_t_Dixi  MULTIPOLYGON (((25495359.278 6676600.761, 2549...   \n",
       "0         pt_r_t_Dixi  MULTIPOLYGON (((25495359.278 6676600.761, 2549...   \n",
       "0         pt_r_t_Dixi  MULTIPOLYGON (((25495359.278 6676600.761, 2549...   \n",
       "..                ...                                                ...   \n",
       "6   pt_r_t_Ruoholahti  MULTIPOLYGON (((25487474.735 6672609.299, 2548...   \n",
       "6   pt_r_t_Ruoholahti  MULTIPOLYGON (((25487474.735 6672609.299, 2548...   \n",
       "6   pt_r_t_Ruoholahti  MULTIPOLYGON (((25487474.735 6672609.299, 2548...   \n",
       "6   pt_r_t_Ruoholahti  MULTIPOLYGON (((25487474.735 6672609.299, 2548...   \n",
       "6   pt_r_t_Ruoholahti  MULTIPOLYGON (((25487474.735 6672609.299, 2548...   \n",
       "\n",
       "    index_right  asukkaita  \n",
       "0          3753       1304  \n",
       "0          3855        108  \n",
       "0          3752         10  \n",
       "0          3854        267  \n",
       "0          3751        103  \n",
       "..          ...        ...  \n",
       "6          2459        772  \n",
       "6          2411        491  \n",
       "6          2410       1028  \n",
       "6          2458        310  \n",
       "6          2367         55  \n",
       "\n",
       "[6594 rows x 4 columns]"
      ]
     },
     "execution_count": 14,
     "metadata": {},
     "output_type": "execute_result"
    }
   ],
   "source": [
    "joined_data"
   ]
  },
  {
   "cell_type": "code",
   "execution_count": 12,
   "metadata": {
    "deletable": false,
    "nbgrader": {
     "cell_type": "code",
     "checksum": "ce80986e449f2a172e8283af1dcef16a",
     "grade": false,
     "grade_id": "sjoin",
     "locked": false,
     "schema_version": 3,
     "solution": true,
     "task": false
    }
   },
   "outputs": [
    {
     "data": {
      "text/html": [
       "<div>\n",
       "<style scoped>\n",
       "    .dataframe tbody tr th:only-of-type {\n",
       "        vertical-align: middle;\n",
       "    }\n",
       "\n",
       "    .dataframe tbody tr th {\n",
       "        vertical-align: top;\n",
       "    }\n",
       "\n",
       "    .dataframe thead th {\n",
       "        text-align: right;\n",
       "    }\n",
       "</style>\n",
       "<table border=\"1\" class=\"dataframe\">\n",
       "  <thead>\n",
       "    <tr style=\"text-align: right;\">\n",
       "      <th></th>\n",
       "      <th>dominant_service</th>\n",
       "      <th>asukkaita</th>\n",
       "    </tr>\n",
       "  </thead>\n",
       "  <tbody>\n",
       "    <tr>\n",
       "      <th>0</th>\n",
       "      <td>pt_r_t_Dixi</td>\n",
       "      <td>223770</td>\n",
       "    </tr>\n",
       "    <tr>\n",
       "      <th>1</th>\n",
       "      <td>pt_r_t_Forum</td>\n",
       "      <td>259697</td>\n",
       "    </tr>\n",
       "    <tr>\n",
       "      <th>2</th>\n",
       "      <td>pt_r_t_IsoOmena</td>\n",
       "      <td>201205</td>\n",
       "    </tr>\n",
       "    <tr>\n",
       "      <th>3</th>\n",
       "      <td>pt_r_t_Itis</td>\n",
       "      <td>212502</td>\n",
       "    </tr>\n",
       "    <tr>\n",
       "      <th>4</th>\n",
       "      <td>pt_r_t_Jumbo</td>\n",
       "      <td>79573</td>\n",
       "    </tr>\n",
       "    <tr>\n",
       "      <th>5</th>\n",
       "      <td>pt_r_t_Myyrmanni</td>\n",
       "      <td>231630</td>\n",
       "    </tr>\n",
       "    <tr>\n",
       "      <th>6</th>\n",
       "      <td>pt_r_t_Ruoholahti</td>\n",
       "      <td>87856</td>\n",
       "    </tr>\n",
       "  </tbody>\n",
       "</table>\n",
       "</div>"
      ],
      "text/plain": [
       "    dominant_service  asukkaita\n",
       "0        pt_r_t_Dixi     223770\n",
       "1       pt_r_t_Forum     259697\n",
       "2    pt_r_t_IsoOmena     201205\n",
       "3        pt_r_t_Itis     212502\n",
       "4       pt_r_t_Jumbo      79573\n",
       "5   pt_r_t_Myyrmanni     231630\n",
       "6  pt_r_t_Ruoholahti      87856"
      ]
     },
     "execution_count": 12,
     "metadata": {},
     "output_type": "execute_result"
    }
   ],
   "source": [
    "joined_data_sums"
   ]
  },
  {
   "cell_type": "markdown",
   "metadata": {},
   "source": [
    "Remember to print the answers in this notebook :)\n",
    "\n",
    "### Extra bonus task\n",
    "\n",
    "Repeat problem 2 and 3 for car accessibility! No extra points available for this, but you can for example start thinking if you want to make the final assignment related to this topic :)"
   ]
  }
 ],
 "metadata": {
  "anaconda-cloud": {},
  "kernelspec": {
   "display_name": "Python 3 (ipykernel)",
   "language": "python",
   "name": "python3"
  },
  "language_info": {
   "codemirror_mode": {
    "name": "ipython",
    "version": 3
   },
   "file_extension": ".py",
   "mimetype": "text/x-python",
   "name": "python",
   "nbconvert_exporter": "python",
   "pygments_lexer": "ipython3",
   "version": "3.8.13"
  }
 },
 "nbformat": 4,
 "nbformat_minor": 2
}
